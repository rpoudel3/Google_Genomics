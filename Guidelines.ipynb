{
 "cells": [
  {
   "cell_type": "markdown",
   "metadata": {},
   "source": [
    "### Creating a bucket and adding files to a bucket from another bucket within google cloud storage\n",
    "\n",
    "1.On the home page, click on the products and services right next to where it says Google Cloud Platform.\n",
    "\n",
    "2.Select Storage,then click on Create buckets to create a bucket.\n",
    "\n",
    "3.Go to this link to get to Phase-1 1000 genome bucket \n",
    "\n",
    "https://console.cloud.google.com/storage/browser/genomics-public-data/1000-genomes/vcf/\n",
    "\n",
    "4.On the right hand corner of a file, click on the ? to copy the files to your bucket.\n",
    "\n",
    "5.On the destination put your bucket location to copy that file in the following format:\n",
    "\n",
    "bucket_1_640/upload_1/Copy of ALL.chrY.phase1_samtools_si.20101123.snps.low_coverage.genotypes.vcf\n",
    "\n",
    "7.Refresh on your bucket to see the changes."
   ]
  },
  {
   "cell_type": "markdown",
   "metadata": {},
   "source": [
    "#### Resources for published data\n",
    "\n",
    "http://googlegenomics.readthedocs.io/en/latest/use_cases/discover_public_data/index.html\n"
   ]
  },
  {
   "cell_type": "markdown",
   "metadata": {},
   "source": [
    "### Installing SDK installer\n",
    "\n",
    "https://cloud.google.com/sdk/downloads\n",
    "\n",
    "This needs to be installed to use the tools and libraries in Google genomics,google compute engine, google cloud server and Bigquery."
   ]
  },
  {
   "cell_type": "markdown",
   "metadata": {},
   "source": [
    "### Bioconductor Setup and Guidelines\n",
    "\n",
    "https://github.com/Bioconductor/GoogleGenomics"
   ]
  },
  {
   "cell_type": "markdown",
   "metadata": {},
   "source": [
    "### Apache Spark Facts:\n",
    "    \n",
    "http://spark.apache.org/faq.html\n",
    "\n",
    "#### Spark Examples:\n",
    "https://github.com/googlegenomics/spark-examples"
   ]
  },
  {
   "cell_type": "code",
   "execution_count": null,
   "metadata": {
    "collapsed": true
   },
   "outputs": [],
   "source": []
  }
 ],
 "metadata": {
  "kernelspec": {
   "display_name": "Python 2",
   "language": "python",
   "name": "python2"
  },
  "language_info": {
   "codemirror_mode": {
    "name": "ipython",
    "version": 2
   },
   "file_extension": ".py",
   "mimetype": "text/x-python",
   "name": "python",
   "nbconvert_exporter": "python",
   "pygments_lexer": "ipython2",
   "version": "2.7.10"
  }
 },
 "nbformat": 4,
 "nbformat_minor": 0
}
