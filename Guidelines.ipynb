{
 "cells": [
  {
   "cell_type": "markdown",
   "metadata": {},
   "source": [
    "    # Google Cloud Platform Basics\n",
    "    ## Contents\n",
    "    ##### 1. Install Google Cloud in the local machine\n",
    "    ##### 2. Adding and deleting components\n",
    "    ##### 3. Creating container clusters\n",
    "    ##### 4. Creating dataproc clusters\n",
    "    ##### 5. Creating buckets\n",
    "    ##### 6. Copying files into buckets\n",
    "\n",
    "    ---\n",
    "\n",
    "\n",
    "    ### 1. Installing Google Cloud in the local machine\n",
    "\n",
    "    Install the Google Cloud SDK to use the tools and libraries in Google Genomics, Google Compute Engine, Google Cloud Storage, and BigQuery.  \n",
    "\n",
    "    The SDK includes gcloud, gsutil, and bq tools.\n",
    "    Download Google Cloud SDK\n",
    "\n",
    "        https://cloud.google.com/sdk/downloads\n",
    "\n",
    "    Downloaded : \n",
    "\n",
    "\n",
    "    Mac OS X (x86_64)\tgoogle-cloud-sdk-127.0.0-darwin-x86_64.tar.gz\t8.7 MB\n",
    "\n",
    "        $ ./google-cloud-sdk/install.sh\n",
    "\n",
    "    Welcome to the Google Cloud SDK!\n",
    "\n",
    "    To help improve the quality of this product, we collect anonymized usage data\n",
    "     and anonymized stacktraces when crashes are encountered.. You may choose to opt\n",
    "     out of this collection now (by choosing 'N' at the below prompt), or at any\n",
    "     time in the future by running the following command:\n",
    "        gcloud config set disable_usage_reporting true\n",
    "\n",
    "    Do you want to help improve the Google Cloud SDK (Y/n)?  Y\n",
    "\n",
    "\n",
    "    Your current Cloud SDK version is: 127.0.0\n",
    "    The latest available version is: 127.0.0\n",
    "\n",
    "    Component\n",
    "\n",
    "    Status|Name |ID|Size\n",
    "    :-----|--------------|------------:\n",
    "     Not Installed | kubectl|kubectl|11.2 MiB\n",
    "    Installed|BigQuery Command Line Tool|bq|< 1 MiB \n",
    "    Installed|Cloud SDK Core Libraries|core|4.9 MiB \n",
    "    Installed|Cloud Storage Command Line Tool|gsutil|2.8 MiB \n",
    "    Installed|Default set of gcloud commands|gcloud                   |            \n",
    "\n",
    "\n",
    "\n",
    "    Install Components : gcloud components install COMPONENT_ID  \n",
    "    Remove Components : gcloud components remove COMPONENT_ID  \n",
    "\n",
    "    To update your SDK installation to the latest version [127.0.0], run:  \n",
    "    $ gcloud components update\n",
    "\n",
    "        Modify profile to update your $PATH and enable shell command \n",
    "        completion? (Y/n)?  Y\n",
    "\n",
    "        The Google Cloud SDK installer will now prompt you to update an rc \n",
    "        file to bring the Google Cloud CLIs into your environment.  \n",
    "\n",
    "        Enter a path to an rc file to update, or leave blank to use \n",
    "        [/Users/surajjoshi/.bash_profile]:\n",
    "\n",
    "        Backing up [/Users/surajjoshi/.bash_profile] to [/Users/surajjoshi/.bash_profile.backup].\n",
    "        [/Users/surajjoshi/.bash_profile] has been updated.  \n",
    "        Start a new shell for the changes to take effect.    \n",
    "\n",
    "        For more information on how to get started, please visit:\n",
    "          https://cloud.google.com/sdk/docs/quickstarts\n",
    "\n",
    "        $ ./google-cloud-sdk/bin/gcloud init\n",
    "        Welcome! This command will take you through the configuration of gcloud.\n",
    "\n",
    "        Your current configuration has been set to: [default]\n",
    "\n",
    "        Network diagnostic detects and fixes local network connection issues.\n",
    "        Checking network connection...done.                                             \n",
    "        Reachability Check passed.\n",
    "        Network diagnostic (1/1 checks) passed.\n",
    "\n",
    "        You must log in to continue. Would you like to log in (Y/n)?  Y\n",
    "\n",
    "        Your browser has been opened to visit:\n",
    "\n",
    "            https://accounts.google.com/o/oauth2/auth?redirect_uri=http%3A%2F%2Flocalhost%3A8085%2F&prompt=select_account&response_type=code&client_id=32555940559.apps.googleusercontent.com&scope=https%3A%2F%2Fwww.googleapis.com%2Fauth%2Fuserinfo.email+https%3A%2F%2Fwww.googleapis.com%2Fauth%2Fcloud-platform+https%3A%2F%2Fwww.googleapis.com%2Fauth%2Fappengine.admin+https%3A%2F%2Fwww.googleapis.com%2Fauth%2Fcompute&access_type=offline\n",
    "\n",
    "\n",
    "        You are logged in as: [ufsggenomics@gmail.com].\n",
    "\n",
    "        Your current project has been set to: [angelic-surfer-143303].\n",
    "\n",
    "        Do you want to configure Google Compute Engine \n",
    "        (https://cloud.google.com/compute) settings (Y/n)?  Y\n",
    "\n",
    "        Which Google Compute Engine zone would you like to use as project \n",
    "        default?\n",
    "        If you do not specify a zone via a command line flag while working \n",
    "        with Compute Engine resources, the default is assumed.\n",
    "         [1] asia-east1-b\n",
    "         [2] asia-east1-c\n",
    "         [3] asia-east1-a\n",
    "         [4] europe-west1-d\n",
    "         [5] europe-west1-c\n",
    "         [6] europe-west1-b\n",
    "         [7] us-central1-a\n",
    "         [8] us-central1-b\n",
    "         [9] us-central1-f\n",
    "         [10] us-central1-c\n",
    "         [11] us-east1-b\n",
    "         [12] us-east1-d\n",
    "         [13] us-east1-c\n",
    "         [14] us-west1-b\n",
    "         [15] us-west1-a\n",
    "         [16] Do not set default zone\n",
    "        Please enter numeric choice or text value (must exactly match list \n",
    "        item):    \n",
    "        Please enter a value between 1 and 16, or a value present in the list:  15\n",
    "\n",
    "        Your project default Compute Engine zone has been set to [us-west1-a].\n",
    "        You can change it by running [gcloud config set compute/zone NAME].\n",
    "\n",
    "        Your project default Compute Engine region has been set to [us-west1].\n",
    "        You can change it by running [gcloud config set compute/region NAME].\n",
    "\n",
    "        Created a default .boto configuration file at [/Users/surajjoshi/.boto]. See this file and\n",
    "        [https://cloud.google.com/storage/docs/gsutil/commands/config] for more\n",
    "        information about configuring Google Cloud Storage.\n",
    "        Your Google Cloud SDK is configured and ready to use!\n",
    "\n",
    "        * Commands that require authentication will use ufsggenomics@gmail.com by default\n",
    "        * Commands will reference project `angelic-surfer-143303` by default\n",
    "        * Compute Engine commands will use region `us-west1` by default\n",
    "        * Compute Engine commands will use zone `us-west1-a` by default\n",
    "\n",
    "        Run `gcloud help config` to learn how to change individual settings\n",
    "\n",
    "        This gcloud configuration is called [default]. You can create additional configurations if you work with multiple accounts and/or projects.\n",
    "        Run `gcloud topic configurations` to learn more.\n",
    "\n",
    "        Some things to try next:\n",
    "\n",
    "        * Run `gcloud --help` to see the Cloud Platform services you can interact with. And run `gcloud help COMMAND` to get help on any gcloud command.\n",
    "        * Run `gcloud topic -h` to learn about advanced features of the SDK like arg files and output formatting\n",
    "\n",
    "    ### Creating new instance\n",
    "    Surajs-MacBook-Pro:~ surajjoshi$ gcloud compute instances create test-instance --custom-cpu 6 --custom-memory 6  \n",
    "\n",
    "    Created [https://www.googleapis.com/compute/v1/projects/angelic-surfer-143303/zones/us-west1-a/instances/test-instance].  \n",
    "\n",
    "    NAME           ZONE        MACHINE_TYPE               PREEMPTIBLE  INTERNAL_IP  EXTERNAL_IP    STATUS  \n",
    "\n",
    "    test-instance  us-west1-a  custom (6 vCPU, 6.00 GiB)               10.138.0.2   104.198.13.63  RUNNING"
   ]
  },
  {
   "cell_type": "markdown",
   "metadata": {},
   "source": [
    "### Creating a bucket and adding files to a bucket from another bucket within google cloud storage\n",
    "\n",
    "1.On the home page, click on the products and services right next to where it says Google Cloud Platform.\n",
    "\n",
    "2.Select Storage,then click on Create buckets to create a bucket.\n",
    "\n",
    "3.Go to this link to get to Phase-1 1000 genome bucket \n",
    "\n",
    "https://console.cloud.google.com/storage/browser/genomics-public-data/1000-genomes/vcf/\n",
    "\n",
    "4.On the right hand corner of a file, click on the ? to copy the files to your bucket.\n",
    "\n",
    "5.On the destination put your bucket location to copy that file in the following format:\n",
    "\n",
    "bucket_1_640/upload_1/Copy of ALL.chrY.phase1_samtools_si.20101123.snps.low_coverage.genotypes.vcf\n",
    "\n",
    "7.Refresh on your bucket to see the changes."
   ]
  },
  {
   "cell_type": "markdown",
   "metadata": {},
   "source": [
    "#### Resources for published data\n",
    "\n",
    "http://googlegenomics.readthedocs.io/en/latest/use_cases/discover_public_data/index.html\n",
    "\n",
    "#### Transferring files from TCGA to Google Cloud Storage\n",
    "\n",
    "https://github.com/isb-cgc/ISB-CGC-data-proc\n",
    "\n",
    "This is one of the location for transferring files from tcga project to the google cloud storage\n",
    "\n",
    "https://bigquery.cloud.google.com/dataset/isb-cgc:tcga_201510_alpha\n",
    "\n",
    " \n",
    "\n",
    "#### Enabling the Google Cloud Platform API\n",
    "\n",
    "https://console.developers.google.com/apis/api/compute_component/overview?project=angelic-surfer-143303&pli=1\n",
    "\n",
    "Press enable\n",
    "\n",
    "Once that is done, go to Credentials\n",
    "\n",
    "640_Project- account name\n",
    "account ID-id-40-project\n",
    "\n"
   ]
  },
  {
   "cell_type": "markdown",
   "metadata": {},
   "source": [
    "### Installing SDK installer\n",
    "\n",
    "https://cloud.google.com/sdk/downloads\n",
    "\n",
    "This needs to be installed to use the tools and libraries in Google genomics,google compute engine, google cloud server and Bigquery."
   ]
  },
  {
   "cell_type": "markdown",
   "metadata": {},
   "source": [
    "### Bioconductor Setup and Guidelines\n",
    "\n",
    "https://github.com/Bioconductor/GoogleGenomics"
   ]
  },
  {
   "cell_type": "markdown",
   "metadata": {},
   "source": [
    "### Apache Spark Facts:\n",
    "    \n",
    "http://spark.apache.org/faq.html\n",
    "\n",
    "#### Spark Examples:\n",
    "https://github.com/googlegenomics/spark-examples"
   ]
  },
  {
   "cell_type": "markdown",
   "metadata": {
    "collapsed": true
   },
   "source": [
    "### Connecting to Spark and Hadoop\n",
    "\n",
    "Running the example cluster documentation:\n",
    "\n",
    "http://googlegenomics.readthedocs.io/en/latest/use_cases/compute_principal_coordinate_analysis/1-way-pca.html#id2\n",
    "\n",
    "   "
   ]
  },
  {
   "cell_type": "markdown",
   "metadata": {
    "collapsed": true
   },
   "source": [
    "#### Creating clusters ( step by step)\n",
    "\n",
    "Go the project, homepage and then create cluster."
   ]
  },
  {
   "cell_type": "markdown",
   "metadata": {
    "collapsed": true
   },
   "source": [
    "## Step by Step : \n",
    "## \"Compute Principal Coordinate Analysis\" tutorial  in Google Genomics: with updates\n",
    "http://googlegenomics.readthedocs.io/en/latest/use_cases/compute_principal_coordinate_analysis/1-way-pca.html"
   ]
  },
  {
   "cell_type": "markdown",
   "metadata": {},
   "source": [
    "Objective : Computing principal components from genetic data using Google cloud platform and Spark\n",
    "\n",
    "Tools used : \n",
    "    Google Cloud platform \n",
    "    Spark 2.0\n",
    "    Scala 2.11.8\n",
    "    Illumina Platinum Genomes database : http://www.illumina.com/platinumgenomes/\n",
    "\n",
    "Build : Spark master Google Compute Engine virtual machine\n",
    "\n",
    "Prerequisite : \n",
    "    An upgraded Google Cloud account\n",
    "    A bucket folder name created under the Storage menu.(see above for bucket creation)\n"
   ]
  },
  {
   "cell_type": "markdown",
   "metadata": {},
   "source": [
    "Principal Coordinate Analysis counts the number of variants two samples have in common. These counts are then placed into an NxN matrix where N is the number of samples in the variant set. The matrix is centered, scaled, and then the first two principal components are computed for each individual."
   ]
  },
  {
   "cell_type": "markdown",
   "metadata": {},
   "source": [
    "#### Setup\n",
    "\n",
    "Create a Spark cluster using Google Cloud Dataproc. This can be done using the Cloud Platform Console or the following gcloud command:\n",
    "\n",
    "    gcloud beta dataproc clusters create cluster-1 --scopes cloud-platform\n",
    "\n",
    "ssh to the master.\n",
    "\n",
    "    gcloud compute ssh cluster-1-m  # -m to get into \n",
    "\n",
    "#### Note : \n",
    "The reference tutorial uses Spark 1.0 and Scala 2.10.4.  Below is the updated code with current version (given above) for both.\n",
    "\n",
    "#### Install sbt.\n",
    "\n",
    "    echo \"deb https://dl.bintray.com/sbt/debian /\" | sudo tee -a /etc/apt/sources.list.d/sbt.list\n",
    "    sudo apt-key adv --keyserver hkp://keyserver.ubuntu.com:80 --recv 642AC823\n",
    "    sudo apt-get install apt-transport-https\n",
    "    sudo apt-get update\n",
    "    sudo apt-get install sbt\n",
    "\n",
    "#### Clone the github repository.\n",
    "\n",
    "    sudo apt-get install git\n",
    "    git clone https://github.com/googlegenomics/spark-examples.git\n",
    "\n",
    "#### Compile the Jar.\n",
    "\n",
    "    cd spark-examples\n",
    "    # Edit the build.sbt file. Change version to 2.0 and scalaVersion to 2.11.8. Save the file and exit.\n",
    "    \n",
    "    sbt assembly\n",
    "    cp target/scala-2.11/googlegenomics-spark-examples-assembly-*.jar ~/\n",
    "    cd ~/\n",
    "\n",
    "#### Run the job\n",
    "\n",
    "    spark-submit \\\n",
    "      --class com.google.cloud.genomics.spark.examples.VariantsPcaDriver \\\n",
    "      --conf spark.shuffle.spill=true \\\n",
    "      googlegenomics-spark-examples-assembly-2.0.jar \\\n",
    "      --variant-set-id 3049512673186936334 \\\n",
    "      --references chr17:41196311:41277499 \\\n",
    "      --output-path gs://Bucket-Name/output/platinum-genomes-brca1-pca.tsv\n",
    "\n"
   ]
  },
  {
   "cell_type": "markdown",
   "metadata": {
    "collapsed": true
   },
   "source": [
    "### Upload variants to Google Cloud Storage"
   ]
  },
  {
   "cell_type": "markdown",
   "metadata": {},
   "source": [
    "Upload the 1000 genome phase-1 variant data set( housed in google genomics as a public dataset)\n",
    "Link is here- https://console.cloud.google.com/storage/browser/genomics-public-data/1000-genomes/vcf/\n",
    "to our own google genomics bucket using the google cloud shell.\n",
    "\n",
    "Step 1: Open the Gcloud shell in the console.\n",
    "    \n",
    "Step 2: Enter the following command to transfer the data:\n",
    "        \n",
    "    $ gsutil cp \\\n",
    "    gs://genomics-public-data/1000-genomes/*.vcf \\\n",
    "    gs://sept-bucket/1000_genomes_phase_1/vcf/"
   ]
  },
  {
   "cell_type": "markdown",
   "metadata": {},
   "source": [
    "### Using the output from the PCA to visualize the data\n",
    "Following is the R code which uses the output from the Step by Step tutorial above and visualize it."
   ]
  },
  {
   "cell_type": "markdown",
   "metadata": {},
   "source": [
    "    pca_1kg <- read.table(\"platinum-genomes-brca1-pca.tsv\", col.names=c(\"Sample\", \"PC1\", \"PC2\", \"Delta\"))\n",
    "    pca_1kg\n",
    "\n",
    "    require(scales) # for scientific_format()\n",
    "    require(ggplot2)\n",
    "    ggplot(pca_1kg) +\n",
    "      geom_point(aes(x=PC1, y=PC2)) +\n",
    "      xlab(\"principal component 1\") +\n",
    "      ylab(\"principal component 2\") +\n",
    "      ggtitle(\"Principal Coordinate Analysis upon 1,000 Genomes\")\n"
   ]
  },
  {
   "cell_type": "markdown",
   "metadata": {},
   "source": [
    "![PCA Graph](https://github.com/rpoudel3/Google_Genomics/blob/master/PCA_graph1.png)"
   ]
  },
  {
   "cell_type": "code",
   "execution_count": 8,
   "metadata": {
    "collapsed": false,
    "scrolled": true
   },
   "outputs": [
    {
     "data": {
      "image/png": "[encoded data removed]",
      "text/plain": [
       "<IPython.core.display.Image object>"
      ]
     },
     "execution_count": 8,
     "metadata": {},
     "output_type": "execute_result"
    }
   ],
   "source": [
    "from IPython.display import Image\n",
    "Image(filename='PCA_graph1.png')"
   ]
  },
  {
   "cell_type": "code",
   "execution_count": null,
   "metadata": {
    "collapsed": true
   },
   "outputs": [],
   "source": []
  }
 ],
 "metadata": {
  "kernelspec": {
   "display_name": "Python 2",
   "language": "python",
   "name": "python2"
  },
  "language_info": {
   "codemirror_mode": {
    "name": "ipython",
    "version": 2
   },
   "file_extension": ".py",
   "mimetype": "text/x-python",
   "name": "python",
   "nbconvert_exporter": "python",
   "pygments_lexer": "ipython2",
   "version": "2.7.9"
  }
 },
 "nbformat": 4,
 "nbformat_minor": 0
}
